{
 "cells": [
  {
   "cell_type": "code",
   "execution_count": 14,
   "id": "5fcd1a16-7b29-432d-9907-181a952cdc4c",
   "metadata": {},
   "outputs": [
    {
     "name": "stdout",
     "output_type": "stream",
     "text": [
      "HEAD is now at 816d6c8 add code\n",
      "success reseted\n"
     ]
    }
   ],
   "source": [
    "import os\n",
    "os.system(\"git reset --hard\")   \n",
    "print(\"success reseted\")"
   ]
  },
  {
   "cell_type": "code",
   "execution_count": 1,
   "id": "0c604b35",
   "metadata": {},
   "outputs": [
    {
     "name": "stdout",
     "output_type": "stream",
     "text": [
      "D\tUntitled.ipynb\n",
      "Already up to date.\n",
      "success merged\n"
     ]
    },
    {
     "name": "stderr",
     "output_type": "stream",
     "text": [
      "Switched to branch 'production'\n"
     ]
    }
   ],
   "source": [
    "import os\n",
    "os.system(\"git checkout production\")\n",
    "os.system(\"git merge development\")\n",
    "print(\"success merged\")"
   ]
  }
 ],
 "metadata": {
  "kernelspec": {
   "display_name": "Python 3 (ipykernel)",
   "language": "python",
   "name": "python3"
  },
  "language_info": {
   "codemirror_mode": {
    "name": "ipython",
    "version": 3
   },
   "file_extension": ".py",
   "mimetype": "text/x-python",
   "name": "python",
   "nbconvert_exporter": "python",
   "pygments_lexer": "ipython3",
   "version": "3.11.5"
  }
 },
 "nbformat": 4,
 "nbformat_minor": 5
}
